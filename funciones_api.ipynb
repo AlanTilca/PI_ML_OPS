{
 "cells": [
  {
   "cell_type": "code",
   "execution_count": 1,
   "metadata": {},
   "outputs": [],
   "source": [
    "import pandas as pd"
   ]
  },
  {
   "cell_type": "code",
   "execution_count": 3,
   "metadata": {},
   "outputs": [],
   "source": [
    "df = pd.read_csv('Dataset\\movies_dataset_new.csv')"
   ]
  },
  {
   "cell_type": "code",
   "execution_count": 4,
   "metadata": {},
   "outputs": [
    {
     "data": {
      "text/plain": [
       "Index(['id', 'title', 'release_year', 'popularity', 'genres', 'budget',\n",
       "       'revenue', 'ROI', 'original_language', 'production_companies',\n",
       "       'production_countries', 'runtime', 'overview', 'release_date',\n",
       "       'spoken_languages', 'status', 'tagline', 'vote_average', 'vote_count',\n",
       "       'belongs_to_collection'],\n",
       "      dtype='object')"
      ]
     },
     "execution_count": 4,
     "metadata": {},
     "output_type": "execute_result"
    }
   ],
   "source": [
    "df.columns"
   ]
  },
  {
   "cell_type": "code",
   "execution_count": 10,
   "metadata": {},
   "outputs": [
    {
     "name": "stdout",
     "output_type": "stream",
     "text": [
      "32202 películas fueron estrenadas en EN.\n"
     ]
    }
   ],
   "source": [
    "# Definir la función peliculas_idioma\n",
    "def peliculas_idioma(idioma):\n",
    "    return df[df['original_language'] == idioma].shape[0]\n",
    "\n",
    "# Llamar a la función y obtener la cantidad de películas producidas en un idioma específico\n",
    "idioma = 'en'\n",
    "cantidad_peliculas = peliculas_idioma(idioma)\n",
    "print(f'{cantidad_peliculas} películas fueron estrenadas en {idioma.upper()}.')"
   ]
  },
  {
   "cell_type": "code",
   "execution_count": 13,
   "metadata": {},
   "outputs": [
    {
     "name": "stdout",
     "output_type": "stream",
     "text": [
      "Sabrina. Duración: 127min. Año: 1995\n"
     ]
    }
   ],
   "source": [
    "# Definir la función peliculas_duracion\n",
    "def peliculas_duracion(pelicula):\n",
    "    pelicula_info = df[df['title'] == pelicula]\n",
    "    duracion = pelicula_info['runtime'].values[0]\n",
    "    anio = pelicula_info['release_year'].values[0]\n",
    "    return int(duracion), anio\n",
    "\n",
    "# Llamar a la función y obtener la duración y el año de una película específica\n",
    "pelicula = 'Sabrina'\n",
    "duracion, anio = peliculas_duracion(pelicula)\n",
    "print(f'{pelicula}. Duración: {duracion}min. Año: {anio}')"
   ]
  }
 ],
 "metadata": {
  "kernelspec": {
   "display_name": "Python 3",
   "language": "python",
   "name": "python3"
  },
  "language_info": {
   "codemirror_mode": {
    "name": "ipython",
    "version": 3
   },
   "file_extension": ".py",
   "mimetype": "text/x-python",
   "name": "python",
   "nbconvert_exporter": "python",
   "pygments_lexer": "ipython3",
   "version": "3.11.3"
  },
  "orig_nbformat": 4
 },
 "nbformat": 4,
 "nbformat_minor": 2
}
