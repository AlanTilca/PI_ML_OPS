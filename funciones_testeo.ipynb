{
 "cells": [
  {
   "cell_type": "code",
   "execution_count": 1,
   "metadata": {},
   "outputs": [],
   "source": [
    "import pandas as pd"
   ]
  },
  {
   "cell_type": "code",
   "execution_count": 2,
   "metadata": {},
   "outputs": [],
   "source": [
    "df = pd.read_csv('movies_dataset_new.csv')"
   ]
  },
  {
   "cell_type": "code",
   "execution_count": 3,
   "metadata": {},
   "outputs": [
    {
     "name": "stdout",
     "output_type": "stream",
     "text": [
      "32249 películas fueron estrenadas en EN.\n"
     ]
    }
   ],
   "source": [
    "def peliculas_idioma(idioma):\n",
    "    return df[df['original_language'] == idioma].shape[0]\n",
    "\n",
    "# Llamar a la función y obtener la cantidad de películas producidas en un idioma específico\n",
    "idioma = 'en'\n",
    "cantidad_peliculas = peliculas_idioma(idioma)\n",
    "print(f'{cantidad_peliculas} películas fueron estrenadas en {idioma.upper()}.')"
   ]
  },
  {
   "cell_type": "code",
   "execution_count": 4,
   "metadata": {},
   "outputs": [
    {
     "name": "stdout",
     "output_type": "stream",
     "text": [
      "Sabrina. Duración: 127min. Año: 1995\n",
      "<class 'str'>. Duración: <class 'int'>min. Año: <class 'numpy.int64'>\n"
     ]
    }
   ],
   "source": [
    "def peliculas_duracion(pelicula):\n",
    "    pelicula_info = df[df['title'] == pelicula]\n",
    "    duracion = pelicula_info['runtime'].values[0]\n",
    "    anio = pelicula_info['release_year'].values[0]\n",
    "    return int(duracion), anio\n",
    "\n",
    "# Llamar a la función y obtener la duración y el año de una película específica\n",
    "pelicula = 'Sabrina'\n",
    "duracion, anio = peliculas_duracion(pelicula)\n",
    "print(f'{pelicula}. Duración: {duracion}min. Año: {anio}')\n",
    "print(f'{type(pelicula)}. Duración: {type(duracion)}min. Año: {type(anio)}')\n"
   ]
  },
  {
   "cell_type": "code",
   "execution_count": 5,
   "metadata": {},
   "outputs": [
    {
     "name": "stdout",
     "output_type": "stream",
     "text": [
      "Cantidad de películas: 3\n",
      "Ganancia total: 1937890605.0\n",
      "Ganancia promedio: 645963535.0\n"
     ]
    }
   ],
   "source": [
    "def franquicia(Franquicia):\n",
    "    # Filtrar el DataFrame por la franquicia especificada\n",
    "    franquicia_movies = df[df['belongs_to_collection'] == Franquicia]\n",
    "    \n",
    "    # Obtener la cantidad de películas de la franquicia\n",
    "    cantidad_peliculas = len(franquicia_movies)\n",
    "    \n",
    "    # Obtener la ganancia total de todas las películas\n",
    "    ganancia_total = franquicia_movies['revenue'].sum()\n",
    "    \n",
    "    # Obtener la ganancia promedio de las películas\n",
    "    ganancia_promedio = franquicia_movies['revenue'].mean()\n",
    "    \n",
    "    # Devolver los resultados\n",
    "    return cantidad_peliculas, ganancia_total, ganancia_promedio\n",
    "\n",
    "cantidad, ganancia_total, ganancia_promedio = franquicia(\"Toy Story Collection\")\n",
    "print(\"Cantidad de películas:\", cantidad)\n",
    "print(\"Ganancia total:\", ganancia_total)\n",
    "print(\"Ganancia promedio:\", ganancia_promedio)\n"
   ]
  },
  {
   "cell_type": "code",
   "execution_count": 6,
   "metadata": {},
   "outputs": [
    {
     "name": "stdout",
     "output_type": "stream",
     "text": [
      "3956\n"
     ]
    }
   ],
   "source": [
    "def peliculas_pais(Pais):\n",
    "    # Filtrar el DataFrame por películas que contengan el país especificado en la lista de países\n",
    "    pais_movies = df[df['production_countries'].apply(lambda paises: Pais in paises)]\n",
    "    \n",
    "    # Obtener la cantidad de películas producidas en el país\n",
    "    cantidad_peliculas = len(pais_movies)\n",
    "    \n",
    "    # Devolver el mensaje de retorno\n",
    "    return cantidad_peliculas\n",
    "\n",
    "peliculas_xpais = peliculas_pais(\"France\")\n",
    "print(peliculas_xpais)"
   ]
  },
  {
   "cell_type": "code",
   "execution_count": 7,
   "metadata": {},
   "outputs": [
    {
     "name": "stdout",
     "output_type": "stream",
     "text": [
      "836 47687746332.0\n"
     ]
    }
   ],
   "source": [
    "def productoras_exitosas(Productora):\n",
    "    # Filtrar el DataFrame por películas que contengan la productora especificada en la lista de productoras\n",
    "    productoras_movies = df[df['production_companies'].apply(lambda productoras: Productora in productoras)]\n",
    "    \n",
    "    # Revenue total\n",
    "    revenue_total = productoras_movies['revenue'].sum()\n",
    "    \n",
    "    # Obtener la cantidad de películas producidas por la productora\n",
    "    cantidad_peliculas = len(productoras_movies)\n",
    "    \n",
    "    # Devolver el mensaje de retorno\n",
    "    return cantidad_peliculas , revenue_total\n",
    "\n",
    "peliculas_xproductora,revenue_productora = productoras_exitosas(\"Twentieth Century Fox Film Corporation\")\n",
    "print(peliculas_xproductora, revenue_productora)"
   ]
  },
  {
   "cell_type": "code",
   "execution_count": 8,
   "metadata": {},
   "outputs": [
    {
     "name": "stdout",
     "output_type": "stream",
     "text": [
      "{'pelicula': 'Heavenly Creatures', 'fecha_lanzamiento': '1994-09-02', 'retorno': 1, 'costo': 5000000.0, 'ganancia': -1950865.0}\n",
      "{'pelicula': 'The Frighteners', 'fecha_lanzamiento': '1996-07-18', 'retorno': 1, 'costo': 30000000.0, 'ganancia': -640784.0}\n",
      "{'pelicula': 'Braindead', 'fecha_lanzamiento': '1992-08-13', 'retorno': 0, 'costo': 3000000.0, 'ganancia': -2757377.0}\n",
      "{'pelicula': 'Bad Taste', 'fecha_lanzamiento': '1987-12-01', 'retorno': 0, 'costo': 25710.0, 'ganancia': -25710.0}\n",
      "{'pelicula': 'Meet the Feebles', 'fecha_lanzamiento': '1989-08-12', 'retorno': 0, 'costo': 750000.0, 'ganancia': -750000.0}\n",
      "{'pelicula': 'The Lord of the Rings: The Fellowship of the Ring', 'fecha_lanzamiento': '2001-12-18', 'retorno': 9, 'costo': 93000000.0, 'ganancia': 778368364.0}\n",
      "{'pelicula': 'The Lord of the Rings: The Two Towers', 'fecha_lanzamiento': '2002-12-18', 'retorno': 12, 'costo': 79000000.0, 'ganancia': 847287400.0}\n",
      "{'pelicula': 'The Lord of the Rings: The Return of the King', 'fecha_lanzamiento': '2003-12-01', 'retorno': 12, 'costo': 94000000.0, 'ganancia': 1024888979.0}\n",
      "{'pelicula': 'King Kong', 'fecha_lanzamiento': '2005-12-14', 'retorno': 3, 'costo': 207000000.0, 'ganancia': 343000000.0}\n",
      "{'pelicula': 'The Lovely Bones', 'fecha_lanzamiento': '2009-12-26', 'retorno': 1, 'costo': 65000000.0, 'ganancia': 28525586.0}\n",
      "{'pelicula': 'The Hobbit: An Unexpected Journey', 'fecha_lanzamiento': '2012-11-26', 'retorno': 4, 'costo': 250000000.0, 'ganancia': 771103568.0}\n",
      "{'pelicula': 'The Hobbit: The Desolation of Smaug', 'fecha_lanzamiento': '2013-12-11', 'retorno': 4, 'costo': 250000000.0, 'ganancia': 708400000.0}\n",
      "{'pelicula': 'The Hobbit: The Battle of the Five Armies', 'fecha_lanzamiento': '2014-12-10', 'retorno': 4, 'costo': 250000000.0, 'ganancia': 706019788.0}\n",
      "Promedio de retornos: 5.1\n"
     ]
    }
   ],
   "source": [
    "def get_director(nombre_director):\n",
    "    director_movies = df[df['director'] == nombre_director]\n",
    "\n",
    "    result = []\n",
    "    total_return = 0\n",
    "    count = 0\n",
    "\n",
    "    for _, row in director_movies.iterrows():\n",
    "        roi = row['ROI']\n",
    "        movie_info = {\n",
    "            'pelicula': row['title'],\n",
    "            'fecha_lanzamiento': row['release_date'],\n",
    "            'retorno': roi,\n",
    "            'costo': row['budget'],\n",
    "            'ganancia': row['revenue'] - row['budget']\n",
    "        }\n",
    "        result.append(movie_info)\n",
    "        \n",
    "        if roi > 0.0:\n",
    "            total_return += roi\n",
    "            count += 1\n",
    "\n",
    "    average_return = total_return / count if count > 0 else None\n",
    "\n",
    "    return result, round(average_return,2)\n",
    "\n",
    "\n",
    "director_name = 'Peter Jackson'  # Reemplaza con el nombre del director que deseas buscar\n",
    "movies_info, average_return = get_director(director_name)\n",
    "\n",
    "for movie in movies_info:\n",
    "    print(movie)\n",
    "\n",
    "print(\"Promedio de retornos:\", average_return)\n"
   ]
  },
  {
   "cell_type": "code",
   "execution_count": 9,
   "metadata": {},
   "outputs": [
    {
     "data": {
      "text/plain": [
       "0           John Lasseter\n",
       "1            Joe Johnston\n",
       "2           Howard Deutch\n",
       "3         Forest Whitaker\n",
       "4           Charles Shyer\n",
       "               ...       \n",
       "45447          John Irvin\n",
       "45448            Lav Diaz\n",
       "45449      Mark L. Lester\n",
       "45450    Yakov Protazanov\n",
       "45451       Daisy Asquith\n",
       "Name: director, Length: 45452, dtype: object"
      ]
     },
     "execution_count": 9,
     "metadata": {},
     "output_type": "execute_result"
    }
   ],
   "source": [
    "df['director']"
   ]
  }
 ],
 "metadata": {
  "kernelspec": {
   "display_name": "Python 3",
   "language": "python",
   "name": "python3"
  },
  "language_info": {
   "codemirror_mode": {
    "name": "ipython",
    "version": 3
   },
   "file_extension": ".py",
   "mimetype": "text/x-python",
   "name": "python",
   "nbconvert_exporter": "python",
   "pygments_lexer": "ipython3",
   "version": "3.11.3"
  },
  "orig_nbformat": 4
 },
 "nbformat": 4,
 "nbformat_minor": 2
}
