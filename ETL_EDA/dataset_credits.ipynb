{
 "cells": [
  {
   "attachments": {},
   "cell_type": "markdown",
   "metadata": {},
   "source": [
    "## PASO 0: Importar bibliotecas y leer datos"
   ]
  },
  {
   "cell_type": "code",
   "execution_count": 1,
   "metadata": {},
   "outputs": [],
   "source": [
    "import pandas as pd\n",
    "import ast"
   ]
  },
  {
   "cell_type": "code",
   "execution_count": 2,
   "metadata": {},
   "outputs": [],
   "source": [
    "df = pd.read_csv('C:/Users/Alan/Documents/PI_ML_OPS_datase/credits.csv')"
   ]
  },
  {
   "attachments": {},
   "cell_type": "markdown",
   "metadata": {},
   "source": [
    "---"
   ]
  },
  {
   "attachments": {},
   "cell_type": "markdown",
   "metadata": {},
   "source": [
    "## PASO 1: Comprensión de datos\n",
    "\n",
    "- Dataframe `shape`\n",
    "- `head` y `tail`\n",
    "- `dtypes`\n",
    "- `describe`"
   ]
  },
  {
   "cell_type": "code",
   "execution_count": 3,
   "metadata": {},
   "outputs": [
    {
     "data": {
      "text/plain": [
       "(45476, 3)"
      ]
     },
     "execution_count": 3,
     "metadata": {},
     "output_type": "execute_result"
    }
   ],
   "source": [
    "df.shape"
   ]
  },
  {
   "cell_type": "code",
   "execution_count": 4,
   "metadata": {},
   "outputs": [
    {
     "data": {
      "text/html": [
       "<div>\n",
       "<style scoped>\n",
       "    .dataframe tbody tr th:only-of-type {\n",
       "        vertical-align: middle;\n",
       "    }\n",
       "\n",
       "    .dataframe tbody tr th {\n",
       "        vertical-align: top;\n",
       "    }\n",
       "\n",
       "    .dataframe thead th {\n",
       "        text-align: right;\n",
       "    }\n",
       "</style>\n",
       "<table border=\"1\" class=\"dataframe\">\n",
       "  <thead>\n",
       "    <tr style=\"text-align: right;\">\n",
       "      <th></th>\n",
       "      <th>cast</th>\n",
       "      <th>crew</th>\n",
       "      <th>id</th>\n",
       "    </tr>\n",
       "  </thead>\n",
       "  <tbody>\n",
       "    <tr>\n",
       "      <th>0</th>\n",
       "      <td>[{'cast_id': 14, 'character': 'Woody (voice)',...</td>\n",
       "      <td>[{'credit_id': '52fe4284c3a36847f8024f49', 'de...</td>\n",
       "      <td>862</td>\n",
       "    </tr>\n",
       "    <tr>\n",
       "      <th>1</th>\n",
       "      <td>[{'cast_id': 1, 'character': 'Alan Parrish', '...</td>\n",
       "      <td>[{'credit_id': '52fe44bfc3a36847f80a7cd1', 'de...</td>\n",
       "      <td>8844</td>\n",
       "    </tr>\n",
       "    <tr>\n",
       "      <th>2</th>\n",
       "      <td>[{'cast_id': 2, 'character': 'Max Goldman', 'c...</td>\n",
       "      <td>[{'credit_id': '52fe466a9251416c75077a89', 'de...</td>\n",
       "      <td>15602</td>\n",
       "    </tr>\n",
       "    <tr>\n",
       "      <th>3</th>\n",
       "      <td>[{'cast_id': 1, 'character': \"Savannah 'Vannah...</td>\n",
       "      <td>[{'credit_id': '52fe44779251416c91011acb', 'de...</td>\n",
       "      <td>31357</td>\n",
       "    </tr>\n",
       "    <tr>\n",
       "      <th>4</th>\n",
       "      <td>[{'cast_id': 1, 'character': 'George Banks', '...</td>\n",
       "      <td>[{'credit_id': '52fe44959251416c75039ed7', 'de...</td>\n",
       "      <td>11862</td>\n",
       "    </tr>\n",
       "    <tr>\n",
       "      <th>5</th>\n",
       "      <td>[{'cast_id': 25, 'character': 'Lt. Vincent Han...</td>\n",
       "      <td>[{'credit_id': '52fe4292c3a36847f802916d', 'de...</td>\n",
       "      <td>949</td>\n",
       "    </tr>\n",
       "    <tr>\n",
       "      <th>6</th>\n",
       "      <td>[{'cast_id': 1, 'character': 'Linus Larrabee',...</td>\n",
       "      <td>[{'credit_id': '52fe44959251416c75039da9', 'de...</td>\n",
       "      <td>11860</td>\n",
       "    </tr>\n",
       "    <tr>\n",
       "      <th>7</th>\n",
       "      <td>[{'cast_id': 2, 'character': 'Tom Sawyer', 'cr...</td>\n",
       "      <td>[{'credit_id': '52fe46bdc3a36847f810f797', 'de...</td>\n",
       "      <td>45325</td>\n",
       "    </tr>\n",
       "    <tr>\n",
       "      <th>8</th>\n",
       "      <td>[{'cast_id': 1, 'character': 'Darren Francis T...</td>\n",
       "      <td>[{'credit_id': '52fe44dbc3a36847f80ae0f1', 'de...</td>\n",
       "      <td>9091</td>\n",
       "    </tr>\n",
       "    <tr>\n",
       "      <th>9</th>\n",
       "      <td>[{'cast_id': 1, 'character': 'James Bond', 'cr...</td>\n",
       "      <td>[{'credit_id': '52fe426ec3a36847f801e14b', 'de...</td>\n",
       "      <td>710</td>\n",
       "    </tr>\n",
       "    <tr>\n",
       "      <th>10</th>\n",
       "      <td>[{'cast_id': 1, 'character': 'Andrew Shepherd'...</td>\n",
       "      <td>[{'credit_id': '52fe44dac3a36847f80adfa3', 'de...</td>\n",
       "      <td>9087</td>\n",
       "    </tr>\n",
       "    <tr>\n",
       "      <th>11</th>\n",
       "      <td>[{'cast_id': 9, 'character': 'Count Dracula', ...</td>\n",
       "      <td>[{'credit_id': '52fe44b79251416c7503e7fb', 'de...</td>\n",
       "      <td>12110</td>\n",
       "    </tr>\n",
       "    <tr>\n",
       "      <th>12</th>\n",
       "      <td>[{'cast_id': 1, 'character': 'Balto (voice)', ...</td>\n",
       "      <td>[{'credit_id': '593f24b9c3a3680369002371', 'de...</td>\n",
       "      <td>21032</td>\n",
       "    </tr>\n",
       "    <tr>\n",
       "      <th>13</th>\n",
       "      <td>[{'cast_id': 1, 'character': 'Richard Nixon', ...</td>\n",
       "      <td>[{'credit_id': '52fe43c59251416c7501d6f3', 'de...</td>\n",
       "      <td>10858</td>\n",
       "    </tr>\n",
       "    <tr>\n",
       "      <th>14</th>\n",
       "      <td>[{'cast_id': 1, 'character': 'Morgan Adams', '...</td>\n",
       "      <td>[{'credit_id': '52fe42f4c3a36847f802f69f', 'de...</td>\n",
       "      <td>1408</td>\n",
       "    </tr>\n",
       "    <tr>\n",
       "      <th>15</th>\n",
       "      <td>[{'cast_id': 4, 'character': \"Sam 'Ace' Rothst...</td>\n",
       "      <td>[{'credit_id': '52fe424dc3a36847f80139cd', 'de...</td>\n",
       "      <td>524</td>\n",
       "    </tr>\n",
       "    <tr>\n",
       "      <th>16</th>\n",
       "      <td>[{'cast_id': 6, 'character': 'Marianne Dashwoo...</td>\n",
       "      <td>[{'credit_id': '52fe43cec3a36847f807101f', 'de...</td>\n",
       "      <td>4584</td>\n",
       "    </tr>\n",
       "    <tr>\n",
       "      <th>17</th>\n",
       "      <td>[{'cast_id': 42, 'character': 'Ted the Bellhop...</td>\n",
       "      <td>[{'credit_id': '52fe420dc3a36847f800011b', 'de...</td>\n",
       "      <td>5</td>\n",
       "    </tr>\n",
       "    <tr>\n",
       "      <th>18</th>\n",
       "      <td>[{'cast_id': 1, 'character': 'Ace Ventura', 'c...</td>\n",
       "      <td>[{'credit_id': '52fe44dfc3a36847f80af28b', 'de...</td>\n",
       "      <td>9273</td>\n",
       "    </tr>\n",
       "    <tr>\n",
       "      <th>19</th>\n",
       "      <td>[{'cast_id': 1, 'character': 'John', 'credit_i...</td>\n",
       "      <td>[{'credit_id': '52fe44509251416c750305a1', 'de...</td>\n",
       "      <td>11517</td>\n",
       "    </tr>\n",
       "  </tbody>\n",
       "</table>\n",
       "</div>"
      ],
      "text/plain": [
       "                                                 cast   \n",
       "0   [{'cast_id': 14, 'character': 'Woody (voice)',...  \\\n",
       "1   [{'cast_id': 1, 'character': 'Alan Parrish', '...   \n",
       "2   [{'cast_id': 2, 'character': 'Max Goldman', 'c...   \n",
       "3   [{'cast_id': 1, 'character': \"Savannah 'Vannah...   \n",
       "4   [{'cast_id': 1, 'character': 'George Banks', '...   \n",
       "5   [{'cast_id': 25, 'character': 'Lt. Vincent Han...   \n",
       "6   [{'cast_id': 1, 'character': 'Linus Larrabee',...   \n",
       "7   [{'cast_id': 2, 'character': 'Tom Sawyer', 'cr...   \n",
       "8   [{'cast_id': 1, 'character': 'Darren Francis T...   \n",
       "9   [{'cast_id': 1, 'character': 'James Bond', 'cr...   \n",
       "10  [{'cast_id': 1, 'character': 'Andrew Shepherd'...   \n",
       "11  [{'cast_id': 9, 'character': 'Count Dracula', ...   \n",
       "12  [{'cast_id': 1, 'character': 'Balto (voice)', ...   \n",
       "13  [{'cast_id': 1, 'character': 'Richard Nixon', ...   \n",
       "14  [{'cast_id': 1, 'character': 'Morgan Adams', '...   \n",
       "15  [{'cast_id': 4, 'character': \"Sam 'Ace' Rothst...   \n",
       "16  [{'cast_id': 6, 'character': 'Marianne Dashwoo...   \n",
       "17  [{'cast_id': 42, 'character': 'Ted the Bellhop...   \n",
       "18  [{'cast_id': 1, 'character': 'Ace Ventura', 'c...   \n",
       "19  [{'cast_id': 1, 'character': 'John', 'credit_i...   \n",
       "\n",
       "                                                 crew     id  \n",
       "0   [{'credit_id': '52fe4284c3a36847f8024f49', 'de...    862  \n",
       "1   [{'credit_id': '52fe44bfc3a36847f80a7cd1', 'de...   8844  \n",
       "2   [{'credit_id': '52fe466a9251416c75077a89', 'de...  15602  \n",
       "3   [{'credit_id': '52fe44779251416c91011acb', 'de...  31357  \n",
       "4   [{'credit_id': '52fe44959251416c75039ed7', 'de...  11862  \n",
       "5   [{'credit_id': '52fe4292c3a36847f802916d', 'de...    949  \n",
       "6   [{'credit_id': '52fe44959251416c75039da9', 'de...  11860  \n",
       "7   [{'credit_id': '52fe46bdc3a36847f810f797', 'de...  45325  \n",
       "8   [{'credit_id': '52fe44dbc3a36847f80ae0f1', 'de...   9091  \n",
       "9   [{'credit_id': '52fe426ec3a36847f801e14b', 'de...    710  \n",
       "10  [{'credit_id': '52fe44dac3a36847f80adfa3', 'de...   9087  \n",
       "11  [{'credit_id': '52fe44b79251416c7503e7fb', 'de...  12110  \n",
       "12  [{'credit_id': '593f24b9c3a3680369002371', 'de...  21032  \n",
       "13  [{'credit_id': '52fe43c59251416c7501d6f3', 'de...  10858  \n",
       "14  [{'credit_id': '52fe42f4c3a36847f802f69f', 'de...   1408  \n",
       "15  [{'credit_id': '52fe424dc3a36847f80139cd', 'de...    524  \n",
       "16  [{'credit_id': '52fe43cec3a36847f807101f', 'de...   4584  \n",
       "17  [{'credit_id': '52fe420dc3a36847f800011b', 'de...      5  \n",
       "18  [{'credit_id': '52fe44dfc3a36847f80af28b', 'de...   9273  \n",
       "19  [{'credit_id': '52fe44509251416c750305a1', 'de...  11517  "
      ]
     },
     "execution_count": 4,
     "metadata": {},
     "output_type": "execute_result"
    }
   ],
   "source": [
    "df.head(20)"
   ]
  },
  {
   "cell_type": "code",
   "execution_count": 5,
   "metadata": {},
   "outputs": [
    {
     "data": {
      "text/plain": [
       "Index(['cast', 'crew', 'id'], dtype='object')"
      ]
     },
     "execution_count": 5,
     "metadata": {},
     "output_type": "execute_result"
    }
   ],
   "source": [
    "df.columns"
   ]
  },
  {
   "cell_type": "code",
   "execution_count": 6,
   "metadata": {},
   "outputs": [
    {
     "data": {
      "text/plain": [
       "cast    object\n",
       "crew    object\n",
       "id       int64\n",
       "dtype: object"
      ]
     },
     "execution_count": 6,
     "metadata": {},
     "output_type": "execute_result"
    }
   ],
   "source": [
    "df.dtypes"
   ]
  },
  {
   "cell_type": "code",
   "execution_count": 7,
   "metadata": {},
   "outputs": [
    {
     "data": {
      "text/html": [
       "<div>\n",
       "<style scoped>\n",
       "    .dataframe tbody tr th:only-of-type {\n",
       "        vertical-align: middle;\n",
       "    }\n",
       "\n",
       "    .dataframe tbody tr th {\n",
       "        vertical-align: top;\n",
       "    }\n",
       "\n",
       "    .dataframe thead th {\n",
       "        text-align: right;\n",
       "    }\n",
       "</style>\n",
       "<table border=\"1\" class=\"dataframe\">\n",
       "  <thead>\n",
       "    <tr style=\"text-align: right;\">\n",
       "      <th></th>\n",
       "      <th>id</th>\n",
       "    </tr>\n",
       "  </thead>\n",
       "  <tbody>\n",
       "    <tr>\n",
       "      <th>count</th>\n",
       "      <td>45476.000000</td>\n",
       "    </tr>\n",
       "    <tr>\n",
       "      <th>mean</th>\n",
       "      <td>108345.997537</td>\n",
       "    </tr>\n",
       "    <tr>\n",
       "      <th>std</th>\n",
       "      <td>112443.796536</td>\n",
       "    </tr>\n",
       "    <tr>\n",
       "      <th>min</th>\n",
       "      <td>2.000000</td>\n",
       "    </tr>\n",
       "    <tr>\n",
       "      <th>25%</th>\n",
       "      <td>26443.250000</td>\n",
       "    </tr>\n",
       "    <tr>\n",
       "      <th>50%</th>\n",
       "      <td>60002.500000</td>\n",
       "    </tr>\n",
       "    <tr>\n",
       "      <th>75%</th>\n",
       "      <td>157302.000000</td>\n",
       "    </tr>\n",
       "    <tr>\n",
       "      <th>max</th>\n",
       "      <td>469172.000000</td>\n",
       "    </tr>\n",
       "  </tbody>\n",
       "</table>\n",
       "</div>"
      ],
      "text/plain": [
       "                  id\n",
       "count   45476.000000\n",
       "mean   108345.997537\n",
       "std    112443.796536\n",
       "min         2.000000\n",
       "25%     26443.250000\n",
       "50%     60002.500000\n",
       "75%    157302.000000\n",
       "max    469172.000000"
      ]
     },
     "execution_count": 7,
     "metadata": {},
     "output_type": "execute_result"
    }
   ],
   "source": [
    "df.describe()"
   ]
  },
  {
   "attachments": {},
   "cell_type": "markdown",
   "metadata": {},
   "source": [
    "---"
   ]
  },
  {
   "attachments": {},
   "cell_type": "markdown",
   "metadata": {},
   "source": [
    "## PASO 2: Preparación de datos\n",
    "\n",
    "- Quitar columnas y filas irrelevantes\n",
    "- Renombrar columnas\n",
    "- Identificar columnas y filas duplicadas\n"
   ]
  },
  {
   "cell_type": "code",
   "execution_count": 8,
   "metadata": {},
   "outputs": [],
   "source": [
    "df_crew = df[['crew','id']].copy()  #Quitamos cast porque no viene al caso del analisis"
   ]
  },
  {
   "cell_type": "code",
   "execution_count": 9,
   "metadata": {},
   "outputs": [],
   "source": [
    "df_crew.to_csv('C:/Users/Alan/Documents/PI_ML_OPS_datase/datasets_nuevos/credits_new.csv', index=False)"
   ]
  },
  {
   "cell_type": "code",
   "execution_count": 10,
   "metadata": {},
   "outputs": [],
   "source": [
    "df_credits = pd.read_csv('C:/Users/Alan/Documents/PI_ML_OPS_datase/datasets_nuevos/credits_new.csv')"
   ]
  },
  {
   "cell_type": "code",
   "execution_count": 11,
   "metadata": {},
   "outputs": [
    {
     "data": {
      "text/html": [
       "<div>\n",
       "<style scoped>\n",
       "    .dataframe tbody tr th:only-of-type {\n",
       "        vertical-align: middle;\n",
       "    }\n",
       "\n",
       "    .dataframe tbody tr th {\n",
       "        vertical-align: top;\n",
       "    }\n",
       "\n",
       "    .dataframe thead th {\n",
       "        text-align: right;\n",
       "    }\n",
       "</style>\n",
       "<table border=\"1\" class=\"dataframe\">\n",
       "  <thead>\n",
       "    <tr style=\"text-align: right;\">\n",
       "      <th></th>\n",
       "      <th>crew</th>\n",
       "      <th>id</th>\n",
       "      <th>director</th>\n",
       "    </tr>\n",
       "  </thead>\n",
       "  <tbody>\n",
       "    <tr>\n",
       "      <th>0</th>\n",
       "      <td>[{'credit_id': '52fe4284c3a36847f8024f49', 'de...</td>\n",
       "      <td>862</td>\n",
       "      <td>John Lasseter</td>\n",
       "    </tr>\n",
       "    <tr>\n",
       "      <th>1</th>\n",
       "      <td>[{'credit_id': '52fe44bfc3a36847f80a7cd1', 'de...</td>\n",
       "      <td>8844</td>\n",
       "      <td>Joe Johnston</td>\n",
       "    </tr>\n",
       "    <tr>\n",
       "      <th>2</th>\n",
       "      <td>[{'credit_id': '52fe466a9251416c75077a89', 'de...</td>\n",
       "      <td>15602</td>\n",
       "      <td>Howard Deutch</td>\n",
       "    </tr>\n",
       "    <tr>\n",
       "      <th>3</th>\n",
       "      <td>[{'credit_id': '52fe44779251416c91011acb', 'de...</td>\n",
       "      <td>31357</td>\n",
       "      <td>Forest Whitaker</td>\n",
       "    </tr>\n",
       "    <tr>\n",
       "      <th>4</th>\n",
       "      <td>[{'credit_id': '52fe44959251416c75039ed7', 'de...</td>\n",
       "      <td>11862</td>\n",
       "      <td>Charles Shyer</td>\n",
       "    </tr>\n",
       "    <tr>\n",
       "      <th>...</th>\n",
       "      <td>...</td>\n",
       "      <td>...</td>\n",
       "      <td>...</td>\n",
       "    </tr>\n",
       "    <tr>\n",
       "      <th>45471</th>\n",
       "      <td>[{'credit_id': '5894a97d925141426c00818c', 'de...</td>\n",
       "      <td>439050</td>\n",
       "      <td>Hamid Nematollah</td>\n",
       "    </tr>\n",
       "    <tr>\n",
       "      <th>45472</th>\n",
       "      <td>[{'credit_id': '52fe4af1c3a36847f81e9b15', 'de...</td>\n",
       "      <td>111109</td>\n",
       "      <td>Lav Diaz</td>\n",
       "    </tr>\n",
       "    <tr>\n",
       "      <th>45473</th>\n",
       "      <td>[{'credit_id': '52fe4776c3a368484e0c8387', 'de...</td>\n",
       "      <td>67758</td>\n",
       "      <td>Mark L. Lester</td>\n",
       "    </tr>\n",
       "    <tr>\n",
       "      <th>45474</th>\n",
       "      <td>[{'credit_id': '533bccebc3a36844cf0011a7', 'de...</td>\n",
       "      <td>227506</td>\n",
       "      <td>Yakov Protazanov</td>\n",
       "    </tr>\n",
       "    <tr>\n",
       "      <th>45475</th>\n",
       "      <td>[{'credit_id': '593e676c92514105b702e68e', 'de...</td>\n",
       "      <td>461257</td>\n",
       "      <td>Daisy Asquith</td>\n",
       "    </tr>\n",
       "  </tbody>\n",
       "</table>\n",
       "<p>45476 rows × 3 columns</p>\n",
       "</div>"
      ],
      "text/plain": [
       "                                                    crew      id   \n",
       "0      [{'credit_id': '52fe4284c3a36847f8024f49', 'de...     862  \\\n",
       "1      [{'credit_id': '52fe44bfc3a36847f80a7cd1', 'de...    8844   \n",
       "2      [{'credit_id': '52fe466a9251416c75077a89', 'de...   15602   \n",
       "3      [{'credit_id': '52fe44779251416c91011acb', 'de...   31357   \n",
       "4      [{'credit_id': '52fe44959251416c75039ed7', 'de...   11862   \n",
       "...                                                  ...     ...   \n",
       "45471  [{'credit_id': '5894a97d925141426c00818c', 'de...  439050   \n",
       "45472  [{'credit_id': '52fe4af1c3a36847f81e9b15', 'de...  111109   \n",
       "45473  [{'credit_id': '52fe4776c3a368484e0c8387', 'de...   67758   \n",
       "45474  [{'credit_id': '533bccebc3a36844cf0011a7', 'de...  227506   \n",
       "45475  [{'credit_id': '593e676c92514105b702e68e', 'de...  461257   \n",
       "\n",
       "               director  \n",
       "0         John Lasseter  \n",
       "1          Joe Johnston  \n",
       "2         Howard Deutch  \n",
       "3       Forest Whitaker  \n",
       "4         Charles Shyer  \n",
       "...                 ...  \n",
       "45471  Hamid Nematollah  \n",
       "45472          Lav Diaz  \n",
       "45473    Mark L. Lester  \n",
       "45474  Yakov Protazanov  \n",
       "45475     Daisy Asquith  \n",
       "\n",
       "[45476 rows x 3 columns]"
      ]
     },
     "execution_count": 11,
     "metadata": {},
     "output_type": "execute_result"
    }
   ],
   "source": [
    "# Función personalizada para extraer el nombre del director\n",
    "def extract_director(row):\n",
    "    crew_data = ast.literal_eval(row['crew'])\n",
    "    for item in crew_data:\n",
    "        if item.get('job') == 'Director':\n",
    "            return item.get('name')\n",
    "    return None\n",
    "\n",
    "# Crear la nueva columna \"director\"\n",
    "df_credits['director'] = df_credits.apply(extract_director, axis=1)\n",
    "\n",
    "df_credits"
   ]
  },
  {
   "cell_type": "code",
   "execution_count": 13,
   "metadata": {},
   "outputs": [],
   "source": [
    "df_credits.to_csv('C:/Users/Alan/Documents/PI_ML_OPS_datase/datasets_nuevos/credits_new.csv', index=False) #Reeditamos el csv pero esta vez con el director a parte"
   ]
  }
 ],
 "metadata": {
  "kernelspec": {
   "display_name": "Python 3",
   "language": "python",
   "name": "python3"
  },
  "language_info": {
   "codemirror_mode": {
    "name": "ipython",
    "version": 3
   },
   "file_extension": ".py",
   "mimetype": "text/x-python",
   "name": "python",
   "nbconvert_exporter": "python",
   "pygments_lexer": "ipython3",
   "version": "3.11.3"
  },
  "orig_nbformat": 4
 },
 "nbformat": 4,
 "nbformat_minor": 2
}
